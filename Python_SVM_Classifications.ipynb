{
 "cells": [
  {
   "cell_type": "code",
   "execution_count": 3,
   "id": "a9a690d5",
   "metadata": {},
   "outputs": [],
   "source": [
    "from sklearn import svm"
   ]
  },
  {
   "cell_type": "markdown",
   "id": "f1000b2f",
   "metadata": {},
   "source": [
    "Bài toán ở đây là phân loại giới tính sử dụng svm\n",
    "\n",
    "và dự đoán giới tính bằng các thuộc tính như height,weight,shoes size "
   ]
  },
  {
   "cell_type": "code",
   "execution_count": 5,
   "id": "c9f84c8f",
   "metadata": {},
   "outputs": [],
   "source": [
    "X = [[170, 70, 10], [180, 80,12], [170, 65, 8],[160, 55, 7]]\n",
    "#Height [cm], Weight [kg], Shoes size[UK]\n",
    "y = [0,0,1,1] #Gender 0:male, 1:female"
   ]
  },
  {
   "cell_type": "code",
   "execution_count": 6,
   "id": "0682d409",
   "metadata": {},
   "outputs": [
    {
     "name": "stdout",
     "output_type": "stream",
     "text": [
      "[1]\n"
     ]
    }
   ],
   "source": [
    "clf = svm.SVC()\n",
    "clf.fit(X,y)\n",
    "#predict\n",
    "p = clf.predict([[160, 60, 7]])#target\n",
    "print(p)"
   ]
  },
  {
   "cell_type": "code",
   "execution_count": null,
   "id": "15f8273e",
   "metadata": {},
   "outputs": [],
   "source": []
  },
  {
   "cell_type": "code",
   "execution_count": null,
   "id": "73356609",
   "metadata": {},
   "outputs": [],
   "source": []
  }
 ],
 "metadata": {
  "kernelspec": {
   "display_name": "Python 3 (ipykernel)",
   "language": "python",
   "name": "python3"
  },
  "language_info": {
   "codemirror_mode": {
    "name": "ipython",
    "version": 3
   },
   "file_extension": ".py",
   "mimetype": "text/x-python",
   "name": "python",
   "nbconvert_exporter": "python",
   "pygments_lexer": "ipython3",
   "version": "3.9.13"
  }
 },
 "nbformat": 4,
 "nbformat_minor": 5
}
